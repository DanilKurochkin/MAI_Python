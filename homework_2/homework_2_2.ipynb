{
 "cells": [
  {
   "cell_type": "markdown",
   "metadata": {},
   "source": [
    "# Задание 2\n",
    "\n",
    "Создайте класс, который будет представлять собой буфер данных. У класса должны быть следующие методы:\n",
    "\n",
    "add_data(data): добавить данные в буфер. Если в буфере уже есть хотя бы 5 элементов, вывести сообщение о переполнении буфера и очистить его.\n",
    "\n",
    "get_data(): получить данные из буфера. Если буфер пуст, вывести сообщение об отсутствии данных."
   ]
  },
  {
   "cell_type": "code",
   "execution_count": 1,
   "metadata": {},
   "outputs": [],
   "source": [
    "from typing import List, Any\n",
    "\n",
    "class DataBuffer:\n",
    "    def __init__(self):\n",
    "        self.buffer: List[Any] = []\n",
    "\n",
    "    def add_data(self, data: Any):\n",
    "        \"\"\"Добавляет данные в буфер. Если буфер переполнен (>=5 элементов), выводит сообщение и очищает его.\"\"\"\n",
    "        self.buffer.append(data)\n",
    "        if len(self.buffer) >= 5:\n",
    "            print(\"Буфер переполнен. Очистка буфера.\")\n",
    "            self.buffer.clear()\n",
    "\n",
    "    def get_data(self):\n",
    "        \"\"\"Возвращает данные из буфера. Если буфер пуст, выводит сообщение об отсутствии данных.\"\"\"\n",
    "        if not self.buffer:\n",
    "            print(\"Буфер пуст. Нет данных для получения.\")\n",
    "            return None\n",
    "        return self.buffer\n"
   ]
  },
  {
   "cell_type": "code",
   "execution_count": 2,
   "metadata": {},
   "outputs": [
    {
     "name": "stdout",
     "output_type": "stream",
     "text": [
      "Буфер переполнен. Очистка буфера.\n",
      "Буфер пуст. Нет данных для получения.\n",
      "None\n",
      "['I am clear']\n"
     ]
    }
   ],
   "source": [
    "buffer = DataBuffer()\n",
    "\n",
    "buffer.add_data(1)\n",
    "buffer.add_data(\"2\")\n",
    "buffer.add_data([3])\n",
    "buffer.add_data(set([4]))\n",
    "buffer.add_data({5: 5})  # Это добавление вызовет переполнение и очистку буфера\n",
    "\n",
    "print(buffer.get_data())  # Буфер пуст, так как он был очищен\n",
    "\n",
    "buffer.add_data('I am clear')\n",
    "print(buffer.get_data())\n"
   ]
  }
 ],
 "metadata": {
  "kernelspec": {
   "display_name": "Python 3",
   "language": "python",
   "name": "python3"
  },
  "language_info": {
   "codemirror_mode": {
    "name": "ipython",
    "version": 3
   },
   "file_extension": ".py",
   "mimetype": "text/x-python",
   "name": "python",
   "nbconvert_exporter": "python",
   "pygments_lexer": "ipython3",
   "version": "3.11.5"
  }
 },
 "nbformat": 4,
 "nbformat_minor": 2
}
