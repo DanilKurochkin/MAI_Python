{
 "cells": [
  {
   "cell_type": "markdown",
   "metadata": {},
   "source": [
    "# Задание 3\n",
    "\n",
    "Создайте виртуальное окружение для проекта, используя модуль venv. В этом окружении установите несколько модулей, таких как requests и BeautifulSoup4, с помощью pip. После установки модулей напишите скрипт, который будет использовать эти модули для выполнения следующих задач:\n",
    "\n",
    "Получение данных с веб-сайта с использованием модуля requests.\n",
    "\n",
    "Парсинг HTML-кода с веб-сайта с использованием BeautifulSoup4.\n",
    "\n",
    "Убедитесь, что ваш скрипт работает корректно в виртуальном окружении и не влияет на глобальные установки Python. В качестве url можно взять https://"
   ]
  },
  {
   "cell_type": "code",
   "execution_count": null,
   "metadata": {},
   "outputs": [],
   "source": [
    "import requests\n",
    "from bs4 import BeautifulSoup\n",
    "\n",
    "# URL веб-сайта\n",
    "url = \"https://example.com\"\n",
    "\n",
    "# Получение ответа на запрос\n",
    "response = requests.get(url)\n",
    "\n",
    "# Проверка успешности запроса\n",
    "if response.status_code == 200:\n",
    "    # Парсинг HTML-кода с использованием BeautifulSoup\n",
    "    soup = BeautifulSoup(response.text, 'html.parser')\n",
    "    \n",
    "    # вывод заголовков всех статей на странице\n",
    "    articles = soup.find_all('h2')\n",
    "    for article in articles:\n",
    "        print(article.text)\n",
    "else:\n",
    "    print(f\"Ошибка {response.status_code} при запросе\")\n"
   ]
  }
 ],
 "metadata": {
  "kernelspec": {
   "display_name": "Python car_advisor_kernel",
   "language": "python",
   "name": "car_advisor_venv"
  },
  "language_info": {
   "codemirror_mode": {
    "name": "ipython",
    "version": 3
   },
   "file_extension": ".py",
   "mimetype": "text/x-python",
   "name": "python",
   "nbconvert_exporter": "python",
   "pygments_lexer": "ipython3",
   "version": "3.10.11"
  }
 },
 "nbformat": 4,
 "nbformat_minor": 2
}
