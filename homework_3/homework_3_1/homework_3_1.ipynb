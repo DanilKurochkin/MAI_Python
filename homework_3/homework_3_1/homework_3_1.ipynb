{
 "cells": [
  {
   "cell_type": "markdown",
   "metadata": {},
   "source": [
    "# Задание 1\n",
    "\n",
    "Создайте пакет, где будет находиться модуль, который содержит класс с методом, вычисляющий сумму всех чисел в передаваемом списке. В качестве решения сдать сам пакет и обращение к нему."
   ]
  },
  {
   "cell_type": "code",
   "execution_count": 1,
   "metadata": {},
   "outputs": [
    {
     "name": "stdout",
     "output_type": "stream",
     "text": [
      "Сумма чисел: 12\n"
     ]
    }
   ],
   "source": [
    "\n",
    "from package import SumCalculator\n",
    "\n",
    "numbers = [1, 1, 2, 3, 5]\n",
    "result = SumCalculator.calculate_sum(numbers)\n",
    "print(f\"Сумма чисел: {result}\")\n"
   ]
  }
 ],
 "metadata": {
  "kernelspec": {
   "display_name": "Python 3",
   "language": "python",
   "name": "python3"
  },
  "language_info": {
   "codemirror_mode": {
    "name": "ipython",
    "version": 3
   },
   "file_extension": ".py",
   "mimetype": "text/x-python",
   "name": "python",
   "nbconvert_exporter": "python",
   "pygments_lexer": "ipython3",
   "version": "3.11.5"
  }
 },
 "nbformat": 4,
 "nbformat_minor": 2
}
