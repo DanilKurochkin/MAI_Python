{
 "cells": [
  {
   "cell_type": "markdown",
   "metadata": {},
   "source": [
    "# Задание 1\n",
    "\n",
    "Создайте класс Animal с атрибутами name и sound, и методом makesound(), который будет выводить на экран звук животного. Создайте объекты Cat и Dog, которые будут наследоваться от класса Animal и иметь дополнительный атрибут color. Переопределите метод makesound() для каждого подкласса, чтобы он выводил на экран соответствующий звук."
   ]
  },
  {
   "cell_type": "code",
   "execution_count": 1,
   "metadata": {},
   "outputs": [],
   "source": [
    "class Animal():\n",
    "    def __init__(self, name: str, sound: str):\n",
    "        self.name: str = name\n",
    "        self.sound: str = sound\n",
    "    \n",
    "    def makesound(self):\n",
    "        print(f\"Животное по имени {self.name.capitalize()} говорит: '{self.sound.capitalize()}'\")\n",
    "\n",
    "\n",
    "class Cat(Animal):\n",
    "    def __init__(self, name: str, color: str):\n",
    "        super().__init__(name, \"мяу\")\n",
    "        self.color: str = color \n",
    "\n",
    "    def makesound(self):\n",
    "        print(f\"{self.color.capitalize()} кот {self.name.capitalize()} говорит: '{self.sound.capitalize()}'\")\n",
    "\n",
    "\n",
    "class Dog(Animal):\n",
    "    def __init__(self, name: str, color: str):\n",
    "        super().__init__(name, \"гав\")\n",
    "        self.color: str = color\n",
    "\n",
    "    def makesound(self):\n",
    "        print(f\"{self.color.capitalize()} собака {self.name.capitalize()} говорит: '{self.sound.capitalize()}'\")\n"
   ]
  },
  {
   "cell_type": "code",
   "execution_count": 2,
   "metadata": {},
   "outputs": [],
   "source": [
    "cat = Cat(\"крис\", \"черный\")\n",
    "dog = Dog(\"муха\", \"Черная\")\n"
   ]
  },
  {
   "cell_type": "code",
   "execution_count": 3,
   "metadata": {},
   "outputs": [
    {
     "name": "stdout",
     "output_type": "stream",
     "text": [
      "Черный кот Крис говорит: 'Мяу'\n",
      "Черная собака Муха говорит: 'Гав'\n"
     ]
    }
   ],
   "source": [
    "cat.makesound()\n",
    "dog.makesound()\n"
   ]
  }
 ],
 "metadata": {
  "kernelspec": {
   "display_name": "Python 3",
   "language": "python",
   "name": "python3"
  },
  "language_info": {
   "codemirror_mode": {
    "name": "ipython",
    "version": 3
   },
   "file_extension": ".py",
   "mimetype": "text/x-python",
   "name": "python",
   "nbconvert_exporter": "python",
   "pygments_lexer": "ipython3",
   "version": "3.11.5"
  }
 },
 "nbformat": 4,
 "nbformat_minor": 2
}
