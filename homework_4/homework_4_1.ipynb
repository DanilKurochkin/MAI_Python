{
 "cells": [
  {
   "cell_type": "markdown",
   "metadata": {},
   "source": [
    "# Задание 1\n",
    "\n",
    "Ознакомьтесь с модулем datetime в Python. Создайте программу, которая будет использовать этот модуль для выполнения следующих задач:\n",
    "\n",
    "Отображение текущей даты и времени. Вычисление разницы между двумя датами. Преобразование строки в объект даты и времени. Убедитесь, что ваша программа работает корректно и использует функции из модуля datetime."
   ]
  },
  {
   "cell_type": "code",
   "execution_count": 1,
   "metadata": {},
   "outputs": [],
   "source": [
    "import datetime\n",
    "\n",
    "\n",
    "def print_current_time():\n",
    "    \"\"\"Отображает текущую дату и время.\"\"\"\n",
    "    current_datetime = datetime.datetime.now()\n",
    "    print(f\"Текущая дата и время: {current_datetime.strftime('%Y-%m-%d %H:%M:%S')}\")\n",
    "\n",
    "\n",
    "def date_difference(\n",
    "    date1: datetime.datetime,\n",
    "    date2: datetime.datetime\n",
    "):\n",
    "    \"\"\"Вычисляет разницу между двумя датами.\"\"\"\n",
    "    difference = date2 - date1\n",
    "    print(f\"Разница между двумя датами: {difference.days} дней, {difference.seconds // 3600} часов\")\n",
    "\n",
    "\n",
    "def convert_string_to_datetime(\n",
    "    date_string: str,\n",
    "    format_string: str\n",
    ") -> datetime.datetime:\n",
    "    \"\"\"Преобразует строку в объект даты и времени.\"\"\"\n",
    "    try:\n",
    "        date_object = datetime.datetime.strptime(date_string, format_string)\n",
    "        print(f\"Преобразованная дата и время: {date_object}\")\n",
    "        return date_object\n",
    "    except ValueError:\n",
    "        print(\"Ошибка: строка не соответствует формату.\")\n",
    "        return None\n"
   ]
  },
  {
   "cell_type": "code",
   "execution_count": 2,
   "metadata": {},
   "outputs": [
    {
     "name": "stdout",
     "output_type": "stream",
     "text": [
      "Текущая дата и время: 2024-11-22 04:35:45\n"
     ]
    }
   ],
   "source": [
    "# 1. Отображение текущей даты и времени\n",
    "print_current_time()\n"
   ]
  },
  {
   "cell_type": "code",
   "execution_count": 3,
   "metadata": {},
   "outputs": [
    {
     "name": "stdout",
     "output_type": "stream",
     "text": [
      "Разница между двумя датами: 7 дней, 0 часов\n"
     ]
    }
   ],
   "source": [
    "# 2. Вычисление разницы между двумя датами\n",
    "date1 = datetime.datetime(2024, 11, 15)\n",
    "date2 = datetime.datetime(2024, 11, 22)\n",
    "date_difference(date1, date2)\n"
   ]
  },
  {
   "cell_type": "code",
   "execution_count": 4,
   "metadata": {},
   "outputs": [
    {
     "name": "stdout",
     "output_type": "stream",
     "text": [
      "Преобразованная дата и время: 2024-11-22 04:35:00\n"
     ]
    },
    {
     "data": {
      "text/plain": [
       "datetime.datetime(2024, 11, 22, 4, 35)"
      ]
     },
     "execution_count": 4,
     "metadata": {},
     "output_type": "execute_result"
    }
   ],
   "source": [
    "# 3. Преобразование строки в объект даты и времени\n",
    "date_string = \"2024-11-22 04:35:00\"\n",
    "format_string = \"%Y-%m-%d %H:%M:%S\"\n",
    "convert_string_to_datetime(date_string, format_string)\n"
   ]
  }
 ],
 "metadata": {
  "kernelspec": {
   "display_name": "Python car_advisor_kernel",
   "language": "python",
   "name": "car_advisor_venv"
  },
  "language_info": {
   "codemirror_mode": {
    "name": "ipython",
    "version": 3
   },
   "file_extension": ".py",
   "mimetype": "text/x-python",
   "name": "python",
   "nbconvert_exporter": "python",
   "pygments_lexer": "ipython3",
   "version": "3.10.11"
  }
 },
 "nbformat": 4,
 "nbformat_minor": 2
}
