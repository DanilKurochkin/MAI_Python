{
 "cells": [
  {
   "cell_type": "markdown",
   "metadata": {},
   "source": [
    "# Задание 2\n",
    "\n",
    "Изучите модуль itertools в Python. Напишите программу, которая использует этот модуль для решения следующих задач:\n",
    "\n",
    "Создание бесконечного генератора чисел. Применение функций к каждому элементу в итераторе. Объединение нескольких итераторов в один. Используйте функции и методы из модуля itertools, чтобы выполнить указанные задачи. Убедитесь, что ваш скрипт может обрабатывать исключения, связанные с отсутствием данных в итераторах."
   ]
  },
  {
   "cell_type": "code",
   "execution_count": 1,
   "metadata": {},
   "outputs": [],
   "source": [
    "import itertools\n",
    "\n",
    "\n",
    "def infinitive_number_generator():\n",
    "    \"\"\"Создает бесконечный генератор чисел\"\"\"\n",
    "    for number in itertools.count(start=1, step=1):\n",
    "        yield number\n",
    "\n",
    "\n",
    "def apply_function_to_iterator(iterator, func):\n",
    "    \"\"\"Применяет функцию к каждому элементу в итераторе\"\"\"\n",
    "    for item in iterator:\n",
    "        try:\n",
    "            result = func(item)\n",
    "            print(f\"Применение функции к {item}: {result}\")\n",
    "        except Exception as e:\n",
    "            print(f\"Ошибка при обработке элемента {item}: {e}\")\n",
    "\n",
    "\n",
    "def combine_iterators(*iterators):\n",
    "    \"\"\"Объединяет несколько итераторов в один\"\"\"\n",
    "    try:\n",
    "        combined_iterator = itertools.chain(*iterators)\n",
    "        for item in combined_iterator:\n",
    "            print(f\"Объединенный элемент: {item}\")\n",
    "    except Exception as e:\n",
    "        print(f\"Ошибка при объединении итераторов: {e}\")\n"
   ]
  },
  {
   "cell_type": "code",
   "execution_count": 2,
   "metadata": {},
   "outputs": [
    {
     "name": "stdout",
     "output_type": "stream",
     "text": [
      "Бесконечный генератор чисел:\n",
      "1\n",
      "2\n",
      "3\n"
     ]
    }
   ],
   "source": [
    "# Пример использования бесконечного генератора чисел\n",
    "print(\"Бесконечный генератор чисел:\")\n",
    "generator = infinitive_number_generator()\n",
    "for _ in range(3):  # Ограничимся тремя элементами\n",
    "    print(next(generator))\n"
   ]
  },
  {
   "cell_type": "code",
   "execution_count": 3,
   "metadata": {},
   "outputs": [
    {
     "name": "stdout",
     "output_type": "stream",
     "text": [
      "\n",
      "Применение функции к каждому элементу в итераторе:\n",
      "Применение функции к 1: 3\n",
      "Применение функции к 1: 3\n",
      "Применение функции к 2: 4\n",
      "Ошибка при обработке элемента 3: can only concatenate str (not \"int\") to str\n",
      "Применение функции к 5: 7\n"
     ]
    }
   ],
   "source": [
    "\n",
    "# Пример применения функции к каждому элементу в итераторе\n",
    "print(\"\\nПрименение функции к каждому элементу в итераторе:\")\n",
    "iterator = [1, 1, 2, \"3\", 5]\n",
    "apply_function_to_iterator(iterator, lambda x: x+2)\n"
   ]
  },
  {
   "cell_type": "code",
   "execution_count": 4,
   "metadata": {},
   "outputs": [
    {
     "name": "stdout",
     "output_type": "stream",
     "text": [
      "\n",
      "Объединение нескольких итераторов:\n",
      "Объединенный элемент: 1\n",
      "Объединенный элемент: 1\n",
      "Объединенный элемент: 2\n",
      "Объединенный элемент: 3\n",
      "Объединенный элемент: 5\n",
      "Объединенный элемент: 8\n",
      "Объединенный элемент: 13\n",
      "Объединенный элемент: 21\n",
      "Объединенный элемент: 34\n"
     ]
    }
   ],
   "source": [
    "# Пример объединения нескольких итераторов\n",
    "print(\"\\nОбъединение нескольких итераторов:\")\n",
    "iter1 = [1, 1, 2]\n",
    "iter2 = [\"3\", \"5\", \"8\"]\n",
    "iter3 = [13, 21, 34]\n",
    "combine_iterators(iter1, iter2, iter3)\n"
   ]
  },
  {
   "cell_type": "code",
   "execution_count": 5,
   "metadata": {},
   "outputs": [
    {
     "name": "stdout",
     "output_type": "stream",
     "text": [
      "\n",
      "Обработка исключения при объединении итераторов:\n",
      "Объединенный элемент: 1\n",
      "Объединенный элемент: 1\n",
      "Объединенный элемент: 2\n",
      "Ошибка при объединении итераторов: 'NoneType' object is not iterable\n"
     ]
    }
   ],
   "source": [
    "# Пример обработки исключения при объединении итераторов\n",
    "print(\"\\nОбработка исключения при объединении итераторов:\")\n",
    "combine_iterators(iter1, None, iter3)\n"
   ]
  }
 ],
 "metadata": {
  "kernelspec": {
   "display_name": "Python car_advisor_kernel",
   "language": "python",
   "name": "car_advisor_venv"
  },
  "language_info": {
   "codemirror_mode": {
    "name": "ipython",
    "version": 3
   },
   "file_extension": ".py",
   "mimetype": "text/x-python",
   "name": "python",
   "nbconvert_exporter": "python",
   "pygments_lexer": "ipython3",
   "version": "3.10.11"
  }
 },
 "nbformat": 4,
 "nbformat_minor": 2
}
